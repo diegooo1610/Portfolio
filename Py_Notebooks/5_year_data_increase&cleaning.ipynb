{
 "cells": [
  {
   "cell_type": "code",
   "execution_count": 7,
   "id": "deef6b9c-957d-4ae9-8749-8d3fdb2a9157",
   "metadata": {},
   "outputs": [
    {
     "name": "stdout",
     "output_type": "stream",
     "text": [
      "Requirement already satisfied: yfinance in /opt/homebrew/Cellar/jupyterlab/4.3.6/libexec/lib/python3.13/site-packages (0.2.61)\n",
      "Requirement already satisfied: pandas>=1.3.0 in /opt/homebrew/Cellar/jupyterlab/4.3.6/libexec/lib/python3.13/site-packages (from yfinance) (2.2.3)\n",
      "Requirement already satisfied: numpy>=1.16.5 in /opt/homebrew/Cellar/jupyterlab/4.3.6/libexec/lib/python3.13/site-packages (from yfinance) (2.2.5)\n",
      "Requirement already satisfied: requests>=2.31 in /opt/homebrew/Cellar/jupyterlab/4.3.6/libexec/lib/python3.13/site-packages (from yfinance) (2.32.3)\n",
      "Requirement already satisfied: multitasking>=0.0.7 in /opt/homebrew/Cellar/jupyterlab/4.3.6/libexec/lib/python3.13/site-packages (from yfinance) (0.0.11)\n",
      "Requirement already satisfied: platformdirs>=2.0.0 in /opt/homebrew/Cellar/jupyterlab/4.3.6/libexec/lib/python3.13/site-packages (from yfinance) (4.3.6)\n",
      "Requirement already satisfied: pytz>=2022.5 in /opt/homebrew/Cellar/jupyterlab/4.3.6/libexec/lib/python3.13/site-packages (from yfinance) (2025.2)\n",
      "Requirement already satisfied: frozendict>=2.3.4 in /opt/homebrew/Cellar/jupyterlab/4.3.6/libexec/lib/python3.13/site-packages (from yfinance) (2.4.6)\n",
      "Requirement already satisfied: peewee>=3.16.2 in /opt/homebrew/Cellar/jupyterlab/4.3.6/libexec/lib/python3.13/site-packages (from yfinance) (3.18.1)\n",
      "Requirement already satisfied: beautifulsoup4>=4.11.1 in /opt/homebrew/Cellar/jupyterlab/4.3.6/libexec/lib/python3.13/site-packages (from yfinance) (4.13.3)\n",
      "Requirement already satisfied: curl_cffi>=0.7 in /opt/homebrew/Cellar/jupyterlab/4.3.6/libexec/lib/python3.13/site-packages (from yfinance) (0.11.1)\n",
      "Requirement already satisfied: protobuf>=3.19.0 in /opt/homebrew/Cellar/jupyterlab/4.3.6/libexec/lib/python3.13/site-packages (from yfinance) (6.31.0)\n",
      "Requirement already satisfied: websockets>=13.0 in /opt/homebrew/Cellar/jupyterlab/4.3.6/libexec/lib/python3.13/site-packages (from yfinance) (15.0.1)\n",
      "Requirement already satisfied: soupsieve>1.2 in /opt/homebrew/Cellar/jupyterlab/4.3.6/libexec/lib/python3.13/site-packages (from beautifulsoup4>=4.11.1->yfinance) (2.6)\n",
      "Requirement already satisfied: typing-extensions>=4.0.0 in /opt/homebrew/Cellar/jupyterlab/4.3.6/libexec/lib/python3.13/site-packages (from beautifulsoup4>=4.11.1->yfinance) (4.12.2)\n",
      "Requirement already satisfied: cffi>=1.12.0 in /opt/homebrew/Cellar/jupyterlab/4.3.6/libexec/lib/python3.13/site-packages (from curl_cffi>=0.7->yfinance) (1.17.1)\n",
      "Requirement already satisfied: certifi>=2024.2.2 in /opt/homebrew/opt/certifi/lib/python3.13/site-packages (from curl_cffi>=0.7->yfinance) (2025.1.31)\n",
      "Requirement already satisfied: python-dateutil>=2.8.2 in /opt/homebrew/Cellar/jupyterlab/4.3.6/libexec/lib/python3.13/site-packages (from pandas>=1.3.0->yfinance) (2.9.0.post0)\n",
      "Requirement already satisfied: tzdata>=2022.7 in /opt/homebrew/Cellar/jupyterlab/4.3.6/libexec/lib/python3.13/site-packages (from pandas>=1.3.0->yfinance) (2025.2)\n",
      "Requirement already satisfied: charset_normalizer<4,>=2 in /opt/homebrew/Cellar/jupyterlab/4.3.6/libexec/lib/python3.13/site-packages (from requests>=2.31->yfinance) (3.4.1)\n",
      "Requirement already satisfied: idna<4,>=2.5 in /opt/homebrew/Cellar/jupyterlab/4.3.6/libexec/lib/python3.13/site-packages (from requests>=2.31->yfinance) (3.10)\n",
      "Requirement already satisfied: urllib3<3,>=1.21.1 in /opt/homebrew/Cellar/jupyterlab/4.3.6/libexec/lib/python3.13/site-packages (from requests>=2.31->yfinance) (2.3.0)\n",
      "Requirement already satisfied: pycparser in /opt/homebrew/Cellar/jupyterlab/4.3.6/libexec/lib/python3.13/site-packages (from cffi>=1.12.0->curl_cffi>=0.7->yfinance) (2.22)\n",
      "Requirement already satisfied: six>=1.5 in /opt/homebrew/Cellar/jupyterlab/4.3.6/libexec/lib/python3.13/site-packages (from python-dateutil>=2.8.2->pandas>=1.3.0->yfinance) (1.17.0)\n",
      "\n",
      "\u001b[1m[\u001b[0m\u001b[34;49mnotice\u001b[0m\u001b[1;39;49m]\u001b[0m\u001b[39;49m A new release of pip is available: \u001b[0m\u001b[31;49m25.0\u001b[0m\u001b[39;49m -> \u001b[0m\u001b[32;49m25.1.1\u001b[0m\n",
      "\u001b[1m[\u001b[0m\u001b[34;49mnotice\u001b[0m\u001b[1;39;49m]\u001b[0m\u001b[39;49m To update, run: \u001b[0m\u001b[32;49m/opt/homebrew/Cellar/jupyterlab/4.3.6/libexec/bin/python -m pip install --upgrade pip\u001b[0m\n",
      "Note: you may need to restart the kernel to use updated packages.\n"
     ]
    }
   ],
   "source": [
    "pip install yfinance\n"
   ]
  },
  {
   "cell_type": "code",
   "execution_count": 8,
   "id": "1f34271b-5447-4e76-b477-ac1de73fc05f",
   "metadata": {},
   "outputs": [
    {
     "name": "stderr",
     "output_type": "stream",
     "text": [
      "[*********************100%***********************]  10 of 10 completed\n"
     ]
    },
    {
     "data": {
      "text/html": [
       "<div>\n",
       "<style scoped>\n",
       "    .dataframe tbody tr th:only-of-type {\n",
       "        vertical-align: middle;\n",
       "    }\n",
       "\n",
       "    .dataframe tbody tr th {\n",
       "        vertical-align: top;\n",
       "    }\n",
       "\n",
       "    .dataframe thead th {\n",
       "        text-align: right;\n",
       "    }\n",
       "</style>\n",
       "<table border=\"1\" class=\"dataframe\">\n",
       "  <thead>\n",
       "    <tr style=\"text-align: right;\">\n",
       "      <th>Price</th>\n",
       "      <th>Date</th>\n",
       "      <th>Open</th>\n",
       "      <th>High</th>\n",
       "      <th>Low</th>\n",
       "      <th>Close</th>\n",
       "      <th>Volume</th>\n",
       "      <th>Ticker</th>\n",
       "      <th>momentum_rsi</th>\n",
       "      <th>trend_macd</th>\n",
       "      <th>volatility_bbm</th>\n",
       "      <th>trend_ema_fast</th>\n",
       "    </tr>\n",
       "  </thead>\n",
       "  <tbody>\n",
       "    <tr>\n",
       "      <th>0</th>\n",
       "      <td>2019-02-07</td>\n",
       "      <td>41.067104</td>\n",
       "      <td>41.433947</td>\n",
       "      <td>40.576396</td>\n",
       "      <td>40.719322</td>\n",
       "      <td>126966800</td>\n",
       "      <td>AAPL</td>\n",
       "      <td>66.468713</td>\n",
       "      <td>1.077211</td>\n",
       "      <td>38.044961</td>\n",
       "      <td>39.475621</td>\n",
       "    </tr>\n",
       "    <tr>\n",
       "      <th>1</th>\n",
       "      <td>2019-02-08</td>\n",
       "      <td>40.427456</td>\n",
       "      <td>40.826970</td>\n",
       "      <td>40.291094</td>\n",
       "      <td>40.767162</td>\n",
       "      <td>95280000</td>\n",
       "      <td>AAPL</td>\n",
       "      <td>66.690986</td>\n",
       "      <td>1.100447</td>\n",
       "      <td>38.251497</td>\n",
       "      <td>39.674320</td>\n",
       "    </tr>\n",
       "    <tr>\n",
       "      <th>2</th>\n",
       "      <td>2019-02-11</td>\n",
       "      <td>40.920285</td>\n",
       "      <td>40.958563</td>\n",
       "      <td>40.489670</td>\n",
       "      <td>40.532730</td>\n",
       "      <td>83973600</td>\n",
       "      <td>AAPL</td>\n",
       "      <td>64.436843</td>\n",
       "      <td>1.087409</td>\n",
       "      <td>38.464297</td>\n",
       "      <td>39.806383</td>\n",
       "    </tr>\n",
       "    <tr>\n",
       "      <th>3</th>\n",
       "      <td>2019-02-12</td>\n",
       "      <td>40.693010</td>\n",
       "      <td>40.908315</td>\n",
       "      <td>40.597316</td>\n",
       "      <td>40.882000</td>\n",
       "      <td>89134000</td>\n",
       "      <td>AAPL</td>\n",
       "      <td>66.266239</td>\n",
       "      <td>1.092665</td>\n",
       "      <td>38.721835</td>\n",
       "      <td>39.971863</td>\n",
       "    </tr>\n",
       "    <tr>\n",
       "      <th>4</th>\n",
       "      <td>2019-02-13</td>\n",
       "      <td>41.001617</td>\n",
       "      <td>41.262376</td>\n",
       "      <td>40.649948</td>\n",
       "      <td>40.712147</td>\n",
       "      <td>89960800</td>\n",
       "      <td>AAPL</td>\n",
       "      <td>64.527830</td>\n",
       "      <td>1.070781</td>\n",
       "      <td>38.934315</td>\n",
       "      <td>40.085752</td>\n",
       "    </tr>\n",
       "  </tbody>\n",
       "</table>\n",
       "</div>"
      ],
      "text/plain": [
       "Price       Date       Open       High        Low      Close     Volume  \\\n",
       "0     2019-02-07  41.067104  41.433947  40.576396  40.719322  126966800   \n",
       "1     2019-02-08  40.427456  40.826970  40.291094  40.767162   95280000   \n",
       "2     2019-02-11  40.920285  40.958563  40.489670  40.532730   83973600   \n",
       "3     2019-02-12  40.693010  40.908315  40.597316  40.882000   89134000   \n",
       "4     2019-02-13  41.001617  41.262376  40.649948  40.712147   89960800   \n",
       "\n",
       "Price Ticker  momentum_rsi  trend_macd  volatility_bbm  trend_ema_fast  \n",
       "0       AAPL     66.468713    1.077211       38.044961       39.475621  \n",
       "1       AAPL     66.690986    1.100447       38.251497       39.674320  \n",
       "2       AAPL     64.436843    1.087409       38.464297       39.806383  \n",
       "3       AAPL     66.266239    1.092665       38.721835       39.971863  \n",
       "4       AAPL     64.527830    1.070781       38.934315       40.085752  "
      ]
     },
     "execution_count": 8,
     "metadata": {},
     "output_type": "execute_result"
    }
   ],
   "source": [
    "import yfinance as yf\n",
    "import pandas as pd\n",
    "import ta\n",
    "\n",
    "# Define tickers and time range\n",
    "tickers = ['AAPL', 'TSLA', 'AMZN', 'MSFT', 'GOOGL', 'META', 'JNJ', 'JPM', 'NVDA', 'V']\n",
    "start_date = '2019-01-01'\n",
    "end_date = pd.Timestamp.today().strftime('%Y-%m-%d')\n",
    "\n",
    "# Download the data\n",
    "data = yf.download(tickers, start=start_date, end=end_date, group_by='ticker', auto_adjust=True)\n",
    "\n",
    "# Prepare an empty list to collect processed DataFrames\n",
    "all_stocks = []\n",
    "\n",
    "# Loop through each ticker to create indicators and clean structure\n",
    "for ticker in tickers:\n",
    "    df = data[ticker].copy()\n",
    "    df = df.dropna().reset_index()\n",
    "    df['Ticker'] = ticker\n",
    "    df['momentum_rsi'] = ta.momentum.RSIIndicator(df['Close']).rsi()\n",
    "    df['trend_macd'] = ta.trend.MACD(df['Close']).macd()\n",
    "    df['volatility_bbm'] = ta.volatility.BollingerBands(df['Close']).bollinger_mavg()\n",
    "    df['trend_ema_fast'] = ta.trend.EMAIndicator(df['Close'], window=12).ema_indicator()\n",
    "    all_stocks.append(df)\n",
    "\n",
    "# Combine all stock data\n",
    "historical_data = pd.concat(all_stocks)\n",
    "historical_data = historical_data.dropna().reset_index(drop=True)\n",
    "\n",
    "# Optional: Save to CSV\n",
    "historical_data.to_csv(\"last_5yr_stock_indicators.csv\", index=False)\n",
    "\n",
    "# Preview\n",
    "historical_data.head()\n"
   ]
  },
  {
   "cell_type": "code",
   "execution_count": 11,
   "id": "7674583d-144e-4a4c-b121-c983c1ffceac",
   "metadata": {},
   "outputs": [
    {
     "data": {
      "text/plain": [
       "(15880, 11)"
      ]
     },
     "execution_count": 11,
     "metadata": {},
     "output_type": "execute_result"
    }
   ],
   "source": [
    "historical_data.shape"
   ]
  },
  {
   "cell_type": "code",
   "execution_count": 12,
   "id": "db89adb1-5f36-4400-a226-ef9a7ee206e4",
   "metadata": {},
   "outputs": [],
   "source": [
    "# Load the dataset\n",
    "df = pd.read_csv('last_5yr_stock_indicators.csv')\n"
   ]
  },
  {
   "cell_type": "code",
   "execution_count": 13,
   "id": "3e9737fb-e56d-4419-a7a8-c1e9dbf77b45",
   "metadata": {},
   "outputs": [],
   "source": [
    "# Parse the 'Date' column into datetime format\n",
    "df['Date'] = pd.to_datetime(df['Date'])\n"
   ]
  },
  {
   "cell_type": "code",
   "execution_count": 14,
   "id": "3fdc01ae-e849-4740-ae1e-4a6f40234a8d",
   "metadata": {},
   "outputs": [],
   "source": [
    "# Sort data by Ticker and Date\n",
    "df = df.sort_values(by=['Ticker', 'Date']).reset_index(drop=True)"
   ]
  },
  {
   "cell_type": "code",
   "execution_count": 15,
   "id": "0c306920-95e2-4ec8-8768-3d59ced8d186",
   "metadata": {},
   "outputs": [],
   "source": [
    "# Drop duplicate rows if any\n",
    "df = df.drop_duplicates()"
   ]
  },
  {
   "cell_type": "code",
   "execution_count": 16,
   "id": "74ecbe75-bc2a-4d3b-ad92-538e2350f5cb",
   "metadata": {},
   "outputs": [],
   "source": [
    "# Drop rows with missing values in key columns\n",
    "df = df.dropna(subset=['Open', 'High', 'Low', 'Close', 'Volume'])\n"
   ]
  },
  {
   "cell_type": "code",
   "execution_count": 17,
   "id": "b976f5bd-824d-4e7f-b717-08a651b74f89",
   "metadata": {},
   "outputs": [],
   "source": [
    "\n",
    "# Create a Daily Return column (percentage change of Close)\n",
    "df['Daily_Return'] = df.groupby('Ticker')['Close'].pct_change() * 100\n"
   ]
  },
  {
   "cell_type": "code",
   "execution_count": 18,
   "id": "505a2c96-f2b9-4798-9cbe-86b50d74319f",
   "metadata": {},
   "outputs": [],
   "source": [
    "# Optional: round all float columns to 2 decimals for easier reading\n",
    "float_cols = df.select_dtypes(include='float64').columns\n",
    "df[float_cols] = df[float_cols].round(2)"
   ]
  },
  {
   "cell_type": "code",
   "execution_count": 19,
   "id": "3d5f6e54-13b9-471d-a5ef-a64e7202c137",
   "metadata": {},
   "outputs": [
    {
     "name": "stdout",
     "output_type": "stream",
     "text": [
      "✅ Cleaned dataset preview:\n",
      "        Date   Open   High    Low  Close     Volume Ticker  momentum_rsi  \\\n",
      "0 2019-02-07  41.07  41.43  40.58  40.72  126966800   AAPL         66.47   \n",
      "1 2019-02-08  40.43  40.83  40.29  40.77   95280000   AAPL         66.69   \n",
      "2 2019-02-11  40.92  40.96  40.49  40.53   83973600   AAPL         64.44   \n",
      "3 2019-02-12  40.69  40.91  40.60  40.88   89134000   AAPL         66.27   \n",
      "4 2019-02-13  41.00  41.26  40.65  40.71   89960800   AAPL         64.53   \n",
      "\n",
      "   trend_macd  volatility_bbm  trend_ema_fast  Daily_Return  \n",
      "0        1.08           38.04           39.48           NaN  \n",
      "1        1.10           38.25           39.67          0.12  \n",
      "2        1.09           38.46           39.81         -0.58  \n",
      "3        1.09           38.72           39.97          0.86  \n",
      "4        1.07           38.93           40.09         -0.42  \n"
     ]
    }
   ],
   "source": [
    "# Show cleaned data info\n",
    "print(\"✅ Cleaned dataset preview:\")\n",
    "print(df.head())\n",
    "\n",
    "# Save cleaned dataset\n",
    "df.to_csv('cleaned_stock_data.csv', index=False)"
   ]
  },
  {
   "cell_type": "code",
   "execution_count": 20,
   "id": "dd42494f-6f17-47af-a9f5-b623909c8b82",
   "metadata": {},
   "outputs": [
    {
     "data": {
      "text/plain": [
       "(15880, 12)"
      ]
     },
     "execution_count": 20,
     "metadata": {},
     "output_type": "execute_result"
    }
   ],
   "source": [
    "df.shape"
   ]
  },
  {
   "cell_type": "code",
   "execution_count": 21,
   "id": "ce6c5959-102f-49b6-97c3-95d279c6d5b1",
   "metadata": {
    "scrolled": true
   },
   "outputs": [
    {
     "name": "stdout",
     "output_type": "stream",
     "text": [
      "Index(['Date', 'Open', 'High', 'Low', 'Close', 'Volume', 'Ticker',\n",
      "       'momentum_rsi', 'trend_macd', 'volatility_bbm', 'trend_ema_fast',\n",
      "       'Daily_Return'],\n",
      "      dtype='object')\n"
     ]
    }
   ],
   "source": [
    "\n",
    "df = pd.read_csv(\"cleaned_5yr_stock_data.csv\")\n",
    "print(df.columns)\n"
   ]
  },
  {
   "cell_type": "code",
   "execution_count": 22,
   "id": "22f70069-d7ad-4cef-9b08-a8e374b12bf4",
   "metadata": {},
   "outputs": [],
   "source": [
    "df = pd.read_csv(\"cleaned_5yr_stock_data.csv\", parse_dates=[\"Date\"])\n"
   ]
  },
  {
   "cell_type": "code",
   "execution_count": 24,
   "id": "b44b3c12-eeb9-432b-91d4-fe52f1f97840",
   "metadata": {},
   "outputs": [],
   "source": [
    "df[\"Month\"] = df[\"Date\"].dt.to_period(\"M\")"
   ]
  },
  {
   "cell_type": "code",
   "execution_count": 25,
   "id": "6eb973f1-5014-4115-aaab-1fb81edcefa8",
   "metadata": {},
   "outputs": [
    {
     "name": "stdout",
     "output_type": "stream",
     "text": [
      "Index(['Date', 'Open', 'High', 'Low', 'Close', 'Volume', 'Ticker',\n",
      "       'momentum_rsi', 'trend_macd', 'volatility_bbm', 'trend_ema_fast',\n",
      "       'Daily_Return'],\n",
      "      dtype='object')\n"
     ]
    }
   ],
   "source": [
    "df = pd.read_csv(\"cleaned_5yr_stock_data.csv\")\n",
    "print(df.columns)"
   ]
  },
  {
   "cell_type": "code",
   "execution_count": 28,
   "id": "b07a5529-b577-46f8-86d9-19fedfb07909",
   "metadata": {},
   "outputs": [],
   "source": [
    "\n",
    "\n",
    "df[\"Month\"] = df[\"Date\"].dt.to_period(\"M\")\n",
    "df[\"Month\"] = df[\"Date\"].dt.to_period(\"M\")\n"
   ]
  },
  {
   "cell_type": "code",
   "execution_count": 29,
   "id": "6b26205c-0359-476c-b86d-2cf27e7bc4dd",
   "metadata": {},
   "outputs": [],
   "source": [
    "df[\"Month\"] = df[\"Date\"].dt.to_period(\"M\")\n"
   ]
  },
  {
   "cell_type": "code",
   "execution_count": 30,
   "id": "953ed734-9791-4bd1-84c5-94b89b81420f",
   "metadata": {},
   "outputs": [],
   "source": [
    "monthly_summary = df.groupby([\"Ticker\", \"Month\"]).agg({\n",
    "    \"Close\": [\"mean\", \"min\", \"max\"],\n",
    "    \"Daily_Return\": \"std\",\n",
    "    \"Volume\": \"sum\",\n",
    "    \"momentum_rsi\": \"mean\",\n",
    "    \"trend_macd\": \"mean\",\n",
    "    \"volatility_bbm\": \"mean\",\n",
    "    \"trend_ema_fast\": \"mean\"\n",
    "}).reset_index()\n",
    "monthly_summary.columns = ['Ticker', 'Month', 'Mean_Close', 'Min_Close', 'Max_Close', \n",
    "                           'Volatility', 'Total_Volume', 'Avg_RSI', 'Avg_MACD', 'Avg_BB', 'Avg_EMA']\n"
   ]
  },
  {
   "cell_type": "code",
   "execution_count": 31,
   "id": "111c8e26-90cd-4468-8f0d-140358222844",
   "metadata": {},
   "outputs": [],
   "source": [
    "monthly_summary = monthly_summary.round(2)\n"
   ]
  },
  {
   "cell_type": "code",
   "execution_count": 32,
   "id": "5633087e-a62f-48ab-b5a0-18f02773fad0",
   "metadata": {},
   "outputs": [],
   "source": [
    "df.to_csv(\"cleaned_5yr_stock_data_with_month.csv\", index=False)\n"
   ]
  }
 ],
 "metadata": {
  "kernelspec": {
   "display_name": "Python 3 (ipykernel)",
   "language": "python",
   "name": "python3"
  },
  "language_info": {
   "codemirror_mode": {
    "name": "ipython",
    "version": 3
   },
   "file_extension": ".py",
   "mimetype": "text/x-python",
   "name": "python",
   "nbconvert_exporter": "python",
   "pygments_lexer": "ipython3",
   "version": "3.13.2"
  }
 },
 "nbformat": 4,
 "nbformat_minor": 5
}
